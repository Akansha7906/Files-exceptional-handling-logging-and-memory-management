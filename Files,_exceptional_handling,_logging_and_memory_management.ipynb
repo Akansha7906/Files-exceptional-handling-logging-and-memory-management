{
  "nbformat": 4,
  "nbformat_minor": 0,
  "metadata": {
    "colab": {
      "provenance": []
    },
    "kernelspec": {
      "name": "python3",
      "display_name": "Python 3"
    },
    "language_info": {
      "name": "python"
    }
  },
  "cells": [
    {
      "cell_type": "markdown",
      "source": [
        "Q1.**What** **is**  the difference between interpreted and compiled languages?\n",
        "\n",
        "\n",
        "**  Compiled Languages\n",
        "\n",
        "----->Source code is translated into machine code by a compiler before execution.\n",
        "\n",
        " * Execution is usually faster, since the program runs directly on the machine.\n",
        "\n",
        "* Errorsare detected at the compilation stage.\n",
        "\n",
        "Example: C, C++, Rust, Go.\n",
        "\n",
        "* Outputis an executable file that can be run independently.\n",
        "\n",
        "****Interpreted Languages\n",
        "* Source code is translated line by line by an interpreter at runtime.\n",
        "\n",
        "* Execution is usually slower, since translation happens while running.\n",
        "\n",
        "* Errors appear during execution, at the line where they occur.\n",
        "\n",
        "Example: Python, JavaScript, Ruby.\n",
        "\n",
        "  No separate executable; code runs through the interpreter."
      ],
      "metadata": {
        "id": "ccuCgnrY0WHh"
      }
    },
    {
      "cell_type": "markdown",
      "source": [
        "Q2.Exception Handling in Python?\n",
        "\n",
        "---->Exception handling is a mechanism to handle errors gracefully during program execution without stopping the entire program.\n",
        "\n",
        "* It allows the program to catch errors (exceptions) and take alternative actions instead of crashing.\n",
        "\n",
        " Achieved using the keywords:\n",
        "\n",
        "**try** → block of code where error might occur\n",
        "\n",
        "**except** → block that runs if an exception occurs\n",
        "\n",
        "**else** → block that runs if no exception occurs\n",
        "\n",
        "**finally** → block that always runs, whether an error occurs or\n",
        "\n"
      ],
      "metadata": {
        "id": "lNRffWYv208V"
      }
    },
    {
      "cell_type": "markdown",
      "source": [
        "Q3.Purpose of the finally block in Python exception handling?\n",
        "\n",
        "---->The finally block is used to write code that should always execute, whether an exception occurs or not.\n",
        "\n",
        "* It is typically used for cleanup operations such as closing files, releasing resources, disconnecting from a database, or freeing memory.\n",
        "\n",
        "* Runs after try and except blocks, regardless of the outcome.\n",
        "\n",
        "  even if an exception is not caught, or a return statement is used, the finally block will still execute (except in cases like a system crash or forced program termination)"
      ],
      "metadata": {
        "id": "dhGgUGnp3k6F"
      }
    },
    {
      "cell_type": "markdown",
      "source": [
        "Q4.What is logging in Python?\n",
        "\n",
        "---->Logging in Python\n",
        "\n",
        " **Logging** is a way to track events that happen when a program runs.\n",
        "\n",
        " It records messages about the program’s execution flow, errors, or status.\n",
        "\n",
        "  Useful for debugging, monitoring, and troubleshooting without interrupting the program.\n",
        "\n",
        "* Messages can be written to the console, files, or external systems.\n",
        "\n",
        " * Pythonprovides a built-in logging module for this purpose.\n",
        "\n",
        " **Logging** levels define the importance of a message:\n",
        "\n",
        " ***DEBUG*** → detailed information (for developers)\n",
        "\n",
        " **INFO** → confirmation that things are working\n",
        "\n",
        " **WARNING** → an indication of a potential problem\n",
        "\n",
        "**ERROR** → something went wrong, but program can continue\n",
        "\n",
        "  **CRITICAL** → serious error, program may stop"
      ],
      "metadata": {
        "id": "eiZ23YaL3__N"
      }
    },
    {
      "cell_type": "markdown",
      "source": [
        "Q5. What is the significance of the __del__ method in Python?\n",
        "\n",
        "---->Significance of the __del__ method in Python\n",
        "\n",
        "__del__ is a destructor method in Python.\n",
        "--->It is automatically called when an object is about to be destroyed (i.e., when it is no longer referenced in memory).\n",
        "\n",
        "Mainly used for cleanup tasks, such as:\n",
        "\n",
        "**Closing** files\n",
        "\n",
        "* Releasing network or database connections\n",
        "\n",
        "* Freeing resources before the object is removed from memory\n",
        "\n",
        "Defined as:\n",
        "\n",
        "def __del__(self):\n",
        "    # cleanup code\n",
        "\n",
        "\n",
        "* Python uses garbage collection to manage memory, so you don’t always need __del__.\n",
        "\n",
        "* However  it can be useful when working with external resources that need explicit release.\n",
        "\n",
        "**Note**: Overusing or misusing __del__ may cause issues, especially with circular references."
      ],
      "metadata": {
        "id": "1HgwlBaX4ys0"
      }
    },
    {
      "cell_type": "markdown",
      "source": [
        "Q6.What is the difference between import and from ... import in Python?\n",
        "\n",
        "----> Difference Between import and from … import in Python\n",
        "1. **Import**\n",
        "\n",
        "..Brings the whole module.\n",
        "\n",
        "..Syntax: import module\n",
        "\n",
        "..Access using module name.\n",
        "\n",
        "  Example: math.sqrt(25)\n",
        "\n",
        "2. ***Import***\n",
        "\n",
        "...Brings specific items from a module.\n",
        "\n",
        "...Syntax: from module import item\n",
        "\n",
        "  Can use directly without module name.\n",
        "\n",
        "  Example: sqrt(25)"
      ],
      "metadata": {
        "id": "n16SpyIm5rJG"
      }
    },
    {
      "cell_type": "markdown",
      "source": [
        "Q7.How can you handle multiple exceptions in Python?\n",
        "\n",
        "---->Use multiple except for handling different errors separately.\n",
        "\n",
        "* Use tuple when same action is needed for multiple errors.\n",
        "\n",
        "* Use generic exception as a last resort"
      ],
      "metadata": {
        "id": "qy2ElmNcMCd4"
      }
    },
    {
      "cell_type": "markdown",
      "source": [
        "Q8.What is the purpose of the with statement when handling files in Python?---.>Purpose of with Statement in File Handling in Python\n",
        "1.\n",
        "\n",
        "** Automatic Resource Management**\n",
        "\n",
        "Ensures the file is automatically closed after its block of code is executed.\n",
        "\n",
        "2. **Cleaner** **Syntax**\n",
        "\n",
        "Removes the need to explicitly call file.close().\n",
        "\n",
        "3. **Exception** **SAFETY**\n",
        "\n",
        "Even if an error occurs, the file will still be closed properly.\n",
        "\n",
        "4. Example\n",
        "with open(\"data.txt\", \"r\") as f:\n",
        "    content = f.read()\n",
        "print(\"File closed automatically\")"
      ],
      "metadata": {
        "id": "xkbgSHJ8Me22"
      }
    },
    {
      "cell_type": "markdown",
      "source": [
        "Q9. What is the difference between multithreading and multiprocessing?---->Difference Between Multithreading and Multiprocessing in Python\n",
        "1. **Multithreading**\n",
        "\n",
        "Uses multiple threads within a single process.\n",
        "\n",
        "Threads share the same memory space.\n",
        "\n",
        "Lightweight, but affected by GIL (Global Interpreter Lock) in Python.\n",
        "\n",
        "Best for I/O-bound tasks (e.g., file read/write, network calls).\n",
        "\n",
        "2. **Multiprocessing**\n",
        "\n",
        "Uses multiple processes, each with its own memory space.\n",
        "\n",
        "Processes are independent, no GIL issue.\n",
        "\n",
        "Heavier than threads, but true parallelism is achieved.\n",
        "\n",
        "Best for CPU-bound tasks (e.g., calculations, data processing)."
      ],
      "metadata": {
        "id": "lKdO1SheM-EE"
      }
    },
    {
      "cell_type": "markdown",
      "source": [
        "Q10.What are the advantages of using logging in a program?\n",
        "\n",
        "--->. Easy Debugging\n",
        "\n",
        "Helps to trace errors and find the cause of problems.\n",
        "\n",
        "2. Better than Print Statements\n",
        "\n",
        "More flexible and professional than using print() for debugging.\n",
        "\n",
        "3. Different Log Levels\n",
        "\n",
        "Provides levels like DEBUG, INFO, WARNING, ERROR, CRITICAL for clarity.\n",
        "\n",
        "4. Persistent Record\n",
        "\n",
        "Logs can be stored in files for future analysis.\n",
        "\n",
        "5. Monitoring and Maintenance\n",
        "\n",
        "Useful for monitoring program behavior in real-time and maintaining large applications.\n",
        "\n",
        "6. Customization\n",
        "\n",
        "Supports formatting, filtering, and directing logs to different outputs (console, file, etc.\n"
      ],
      "metadata": {
        "id": "HEXB1vN_NdCn"
      }
    },
    {
      "cell_type": "markdown",
      "source": [
        "Q11. What is memory management in Python?\n",
        "\n",
        "---->Memory Management in Python\n",
        "\n",
        "* Memory management in Python means efficient allocation and release of memory for objects and variables.\n",
        "\n",
        "* Python uses a private heap space where all objects are stored.\n",
        "\n",
        "* ThePython Memory Manager handles allocation of memory.\n",
        "\n",
        " * Abuilt-in garbage collector frees memory that is no longer in use.\n",
        "\n",
        "* Pythonuses reference counting to track objects, and when count becomes zero, memory is released.\n",
        "\n",
        "* Garbage collector removes unused objects to prevent memory leaks.\n",
        "\n",
        "* This system makes memory management automatic, efficient, and developer-friendly.\n"
      ],
      "metadata": {
        "id": "3M3_zRmxN238"
      }
    },
    {
      "cell_type": "markdown",
      "source": [
        "Q12. What are the basic steps involved in exception handling in Python?--->Basic Steps in Exception Handling in Python\n",
        "\n",
        "**Try** **Block** – Write the code that may cause an error inside the try block.\n",
        "\n",
        "**Except** **Block** – Catch and handle the error using one or more except blocks.\n",
        "\n",
        "**Else** **Block** (Optional) – Runs only if no exception occurs in the try block.\n",
        "\n",
        "**Finally** **Block** (Optional) – Executes always, whether an exception occurs or not (used for cleanup like closing files)."
      ],
      "metadata": {
        "id": "9EzjAC2tOod_"
      }
    },
    {
      "cell_type": "markdown",
      "source": [
        "Q13.Why is memory management important in Python?\n",
        "\n",
        "-->Importance of Memory Management in Python\n",
        "\n",
        "**Efficient Resource Use** – Ensures memory is used properly without wastage.\n",
        "\n",
        "**Prevents Memory Leaks **– Garbage collector removes unused objects, avoiding memory leaks.\n",
        "\n",
        "**Smooth Program Execution** – Helps programs run faster and without crashes.\n",
        "\n",
        "**Automatic Handling **– Reduces the burden on programmers by managing allocation and deallocation.\n",
        "\n",
        "Supports Large Applications – Essential for handling big data and complex programs effectively."
      ],
      "metadata": {
        "id": "qoS7SAJTPNL9"
      }
    },
    {
      "cell_type": "markdown",
      "source": [
        "Q14. What is the role of try and except in exception handling?\n",
        "\n",
        "----->Role of Try and Except in Exception Handling\n",
        "\n",
        "**Try** **Block**  – The code that may cause an error is written inside the try block. It allows the program to test a block of code for exceptions.\n",
        "\n",
        "**Except** **Block** – The except block handles the error if it occurs. It prevents the program from crashing and provides an alternate flow of execution"
      ],
      "metadata": {
        "id": "ZVr7PLI5PWik"
      }
    },
    {
      "cell_type": "markdown",
      "source": [
        "Q15.How does Python's garbage collection system work?\n",
        "\n",
        "--->Garbage Collection System in Python\n",
        "\n",
        "  * Python’s garbage collection system works automatically to manage memory efficiently. It mainly uses reference counting, where each object keeps track of how many references point to it, and when the count becomes zero, the memory is released. In addition to this, Python also has a cyclic garbage collector that can detect and remove objects involved in reference cycles, which reference counting alone cannot handle. The garbage collector is supported by the built-in gc module, which allows programmers to interact with and control garbage collection when needed. This system prevents memory leaks, frees unused memory, and ensures smooth program execution, making Python’s memory management automatic, efficient, and developer-friendly\n"
      ],
      "metadata": {
        "id": "nMPXiGn4Pw2D"
      }
    },
    {
      "cell_type": "markdown",
      "source": [
        "Q16. What is the purpose of the else block in exception handling?\n",
        "\n",
        "--->Purpose of Else Block in Exception Handling\n",
        "\n",
        "* The else block in Python exception handling is used to define a set of statements that should run only when no exception occurs in the try block. If the code inside the try block executes successfully without errors, the else block will be executed. However, if an exception is raised, the else block is skipped and the control moves to the corresponding except block. This helps in keeping the code for normal execution separate from the error-handling code, making the program cleaner and more readable."
      ],
      "metadata": {
        "id": "xDUdSe4PQLnX"
      }
    },
    {
      "cell_type": "markdown",
      "source": [
        "Q17. What are the common logging levels in Python?\n",
        "\n",
        "--->Common Logging Levels in Python\n",
        "\n",
        "**DEBUG** – Used for detailed information, helpful in diagnosing problems.\n",
        "\n",
        "**INFO** – Used to confirm that things are working as expected.\n",
        "\n",
        "**WARNING** – Indicates something unexpected happened, but program is still running.\n",
        "\n",
        "**ERROR** – Shows a serious problem that has caused part of the program to fail.\n",
        "\n",
        "**CRITICAL** – Indicates a very severe error that may stop the program completely"
      ],
      "metadata": {
        "id": "nvK96j9hQh30"
      }
    },
    {
      "cell_type": "markdown",
      "source": [
        "Q18. What is the difference between os.fork() and multiprocessing in Python?---.os.fork()\n",
        "\n",
        "....Creates a new child process by duplicating the current process.\n",
        "\n",
        "Works only on Unix/Linux operating systems.\n",
        "\n",
        "* Itis a low-level method and needs manual process management.\n",
        "\n",
        "* Only duplicates the process without extra features.\n",
        "\n",
        "* Canbe error-prone if not handled carefully.\n",
        "\n",
        "--->multiprocessing\n",
        "\n",
        "* A Python module for creating and managing multiple processes.\n",
        "\n",
        "* Works on all platforms (Windows, Linux, Mac).\n",
        "\n",
        "* Provideshigh-level API with Process, Pool, and communication tools.\n",
        "\n",
        "* Supports process synchronization and parallel execution.\n",
        "\n",
        "* Safer and more convenient for cross-platform programming."
      ],
      "metadata": {
        "id": "NmOXT_iiQ4dL"
      }
    },
    {
      "cell_type": "markdown",
      "source": [
        "Q19.What is the importance of closing a file in Python?\n",
        "\n",
        "--->Importance of Closing a File in Python\n",
        "\n",
        "  * Releases system resources used by the file.\n",
        "\n",
        "  * Ensures all data is properly written and saved, preventing data loss.\n",
        "\n",
        "  * Preventserrors or unexpected behavior in the program.\n",
        "\n",
        "  * Improves performance by freeing memory and file handles.\n",
        "\n",
        "  * Considered good programming practice for safe and reliable code."
      ],
      "metadata": {
        "id": "uj0reMLaRqEm"
      }
    },
    {
      "cell_type": "markdown",
      "source": [
        "Q20. What is the difference between file.read() and file.readline() in Python?---->file.read()\n",
        "\n",
        "* Reads  the entire content of the file at once.\n",
        "\n",
        "* Returns  a single string containing all the text.\n",
        "\n",
        "* Can be memory-intensive for very large files.\n",
        "\n",
        "* Useful  when the whole file content is needed at once.\n",
        "\n",
        "-->file.readline()\n",
        "\n",
        "* Reads  one line at a time from the file.\n",
        "\n",
        "* Returns  a string of the current line, including the newline character (\\n).\n",
        "\n",
        "* More  memory-efficient for large files.\n",
        "\n",
        " * Useful  when processing a file line by line."
      ],
      "metadata": {
        "id": "3iZP7EJbEobj"
      }
    },
    {
      "cell_type": "markdown",
      "source": [
        "Q21.What is the logging module in Python used for?\n",
        "\n",
        "--->Logging Module in Python\n",
        "\n",
        "* Thelogging module is used to track events that happen during program execution.\n",
        "\n",
        "* It helps in debugging by recording errors, warnings, and other information.\n",
        "\n",
        "* Supportsdifferent log levels: DEBUG, INFO, WARNING, ERROR, and CRITICAL.\n",
        "\n",
        "* Logscan be saved to a file or displayed on the console.\n",
        "\n",
        "* Provides a professional and flexible way to monitor and maintain programs."
      ],
      "metadata": {
        "id": "XBsuFd8EXLmr"
      }
    },
    {
      "cell_type": "markdown",
      "source": [
        "Q22. What is the os module in Python used for in file handling?\n",
        "\n",
        "--->Module in Python for File Handling\n",
        "\n",
        "* os module provides functions to interact with the operating system.\n",
        "\n",
        "* It is used for creating, deleting, renaming, and managing files and directories.\n",
        "\n",
        "* Helps in checking file existence, getting file paths, and changing directories.\n",
        "\n",
        "* Supportsplatform-independent file handling, making programs portable.\n",
        "\n",
        "  Common functions include os.mkdir(), os.remove(), os.rename(), os.listdir(), and os.path.exists()."
      ],
      "metadata": {
        "id": "EtxCSUJRXn0y"
      }
    },
    {
      "cell_type": "markdown",
      "source": [
        "Q23.What are the challenges associated with memory management in Python? * Memoryleaks can occur due to circular references.\n",
        "\n",
        "* Large data structures or many objects may consume high memory.\n",
        "\n",
        "* Automatic garbage collection can sometimes slow down performance.\n",
        "\n",
        "* Reference counting alone cannot detect cycles.\n",
        "\n",
        "* Developers have limited control over memory release.\n",
        "\n",
        "* Memory behavior may vary across different operating systems."
      ],
      "metadata": {
        "id": "f5u6e6wf9sG-"
      }
    },
    {
      "cell_type": "markdown",
      "source": [
        "Q24.How do you raise an exception manually in Python?\n",
        "\n",
        "--->Use the raise keyword to generate an exception intentionally.\n",
        "\n",
        "* Can raise built-in exceptions like ValueError, TypeError, etc.\n",
        "\n",
        "* Can  also raise custom exceptions by defining a new exception class.\n",
        "\n",
        "* Useful  for enforcing rules, validating input, or handling specific errors."
      ],
      "metadata": {
        "id": "L82R8q1_-8x9"
      }
    },
    {
      "cell_type": "markdown",
      "source": [
        "Q25. Why is it important to use multithreading in certain applications?--->Improves performance by allowing multiple tasks to run concurrently.\n",
        "\n",
        "* Efficient  for I/O-bound tasks like file operations, network requests, or database access.\n",
        "\n",
        "* Multiple threads share the same memory, utilizing system resources efficiently.\n",
        "\n",
        "* Keeps  applications, like GUIs, responsive during background operations.\n",
        "\n",
        "* Simplifies  program design by enabling simultaneous execution of independent tasks."
      ],
      "metadata": {
        "id": "CUFL5Zyo_449"
      }
    },
    {
      "cell_type": "markdown",
      "source": [
        "**PRACTICAL** **QUESTIONS**"
      ],
      "metadata": {
        "id": "iqdcpO8QdmrY"
      }
    },
    {
      "cell_type": "markdown",
      "source": [
        "Q1. How can you open a file for writing in Python and write a string to it?"
      ],
      "metadata": {
        "id": "Pdg4ZROFdwJ_"
      }
    },
    {
      "cell_type": "code",
      "source": [
        "with open(\"my_file\",\"w\") as f:\n",
        "  f.write(\"i like reading\")"
      ],
      "metadata": {
        "id": "qjLN4klNfvGQ"
      },
      "execution_count": null,
      "outputs": []
    },
    {
      "cell_type": "markdown",
      "source": [
        "Q2. Write a Python program to read the contents of a file and print each line?"
      ],
      "metadata": {
        "id": "r5jCe3U4iQl_"
      }
    },
    {
      "cell_type": "code",
      "source": [
        "with open(\"my_file\",\"r\") as f:\n",
        "  for line in f:\n",
        "    print(line)"
      ],
      "metadata": {
        "id": "JrPKCHCqj2Fu"
      },
      "execution_count": null,
      "outputs": []
    },
    {
      "cell_type": "markdown",
      "source": [
        "Q3."
      ],
      "metadata": {
        "id": "huuTmpbAng2T"
      }
    },
    {
      "cell_type": "markdown",
      "source": [
        " How would you handle a case where the file doesn't exist while trying to open it for reading?"
      ],
      "metadata": {
        "id": "pCO4r6oTBJOL"
      }
    },
    {
      "cell_type": "code",
      "source": [
        "try:\n",
        "    with open(\"example.txt\", \"r\") as file:\n",
        "        content = file.read()\n",
        "        print(content)\n",
        "except FileNotFoundError:\n",
        "    print(\"Error: The file does not exist.\")"
      ],
      "metadata": {
        "id": "tOy7_HOdBf3R"
      },
      "execution_count": null,
      "outputs": []
    },
    {
      "cell_type": "markdown",
      "source": [
        " Q4 Write a Python script that reads from one file and writes its content to another file?"
      ],
      "metadata": {
        "id": "41ozVOP-Bjia"
      }
    },
    {
      "cell_type": "code",
      "source": [
        "with open(\"source.txt\", \"r\") as f1, open(\"destination.txt\", \"w\") as f2:\n",
        "    f2.write(f1.read())"
      ],
      "metadata": {
        "id": "__o6wJN6CKeZ"
      },
      "execution_count": null,
      "outputs": []
    },
    {
      "cell_type": "markdown",
      "source": [
        "Q5  How would you catch and handle division by zero error in Python?"
      ],
      "metadata": {
        "id": "dF_IDhWLCMjC"
      }
    },
    {
      "cell_type": "code",
      "source": [
        "try:\n",
        "    a = 10\n",
        "    b = 0\n",
        "    result = a / b\n",
        "    print(\"Result:\", result)\n",
        "except ZeroDivisionError:\n",
        "    print(\"Error: Division by zero is not allowed.\")"
      ],
      "metadata": {
        "id": "d2ERASq0CX_5"
      },
      "execution_count": null,
      "outputs": []
    },
    {
      "cell_type": "markdown",
      "source": [
        "Q6  Write a Python program that logs an error message to a log file when a division by zero exception occurs?"
      ],
      "metadata": {
        "id": "JrKJKWJ_Ch1w"
      }
    },
    {
      "cell_type": "code",
      "source": [
        "\n",
        "\n",
        "import logging\n",
        "\n",
        "logging.basicConfig(filename=\"error.log\", level=logging.ERROR)\n",
        "\n",
        "try:\n",
        "    print(10/0)\n",
        "except ZeroDivisionError as e:\n",
        "    logging.error(f\"Error: {e}\")"
      ],
      "metadata": {
        "id": "oeXK7owQC4uB"
      },
      "execution_count": null,
      "outputs": []
    },
    {
      "cell_type": "markdown",
      "source": [],
      "metadata": {
        "id": "yR8zQC7_DANY"
      }
    },
    {
      "cell_type": "markdown",
      "source": [
        "Q7  How do you log information at different levels (INFO, ERROR, WARNING) in Python using the logging module?"
      ],
      "metadata": {
        "id": "WVkibkwPDVHh"
      }
    },
    {
      "cell_type": "code",
      "source": [
        "import logging\n",
        "logging.basicConfig(level=logging.DEBUG)\n",
        "\n",
        "logging.info(\"Info msg\")\n",
        "logging.warning(\"Warning msg\")\n",
        "logging.error(\"Error msg\")"
      ],
      "metadata": {
        "id": "CsrIWLBLDkph"
      },
      "execution_count": null,
      "outputs": []
    },
    {
      "cell_type": "markdown",
      "source": [
        "Q8 Write a program to handle a file opening error using exception handling?"
      ],
      "metadata": {
        "id": "YdHGEzv-DmjQ"
      }
    },
    {
      "cell_type": "code",
      "source": [
        "try:\n",
        "    f = open(\"myfile.txt\", \"r\")\n",
        "    print(f.read())\n",
        "except FileNotFoundError:\n",
        "    print(\"File not found error!\")"
      ],
      "metadata": {
        "id": "vvcQosarD86n"
      },
      "execution_count": null,
      "outputs": []
    },
    {
      "cell_type": "markdown",
      "source": [
        "Q9  How can you read a file line by line and store its content in a list in Python?"
      ],
      "metadata": {
        "id": "1YgUqXY1EEz5"
      }
    },
    {
      "cell_type": "code",
      "source": [
        "with open(\"myfile.txt\", \"r\") as f:\n",
        "    lines = f.readlines()\n",
        "print(lines"
      ],
      "metadata": {
        "id": "fNfsYQLhEU5v"
      },
      "execution_count": null,
      "outputs": []
    },
    {
      "cell_type": "markdown",
      "source": [
        "Q10 How can you append data to an existing file in Python?"
      ],
      "metadata": {
        "id": "TvRNUt8UEWyP"
      }
    },
    {
      "cell_type": "code",
      "source": [
        "with open(\"myfile.txt\", \"a\") as f:\n",
        "    f.write(\"This is new data.\\n\")"
      ],
      "metadata": {
        "id": "Tfc7y6ibEkAh"
      },
      "execution_count": null,
      "outputs": []
    },
    {
      "cell_type": "markdown",
      "source": [
        "Q11 Write a Python program that uses a try-except block to handle an error when attempting to access a\n",
        "dictionary key that doesn't exist?"
      ],
      "metadata": {
        "id": "mVl3b4GAElUv"
      }
    },
    {
      "cell_type": "code",
      "source": [
        "my_dict = {\"name\": \"Jyoti\", \"age\": 25}\n",
        "\n",
        "try:\n",
        "    print(my_dict[\"salary\"])  # Key 'salary' doesn't exist\n",
        "except KeyError:\n",
        "    print(\"Error: The key does not exist in the dictionary.\")"
      ],
      "metadata": {
        "id": "a167eQvbExdf"
      },
      "execution_count": null,
      "outputs": []
    },
    {
      "cell_type": "markdown",
      "source": [
        "Q12  Write a program that demonstrates using multiple except blocks to handle different types of exceptions?"
      ],
      "metadata": {
        "id": "Jz5dMIE4EzJn"
      }
    },
    {
      "cell_type": "code",
      "source": [
        "try:\n",
        "    a = int(input(\"Num1: \"))\n",
        "    b = int(input(\"Num2: \"))\n",
        "    print(a / b)\n",
        "except ZeroDivisionError:\n",
        "    print(\"Cannot divide by zero!\")\n",
        "except ValueError:\n",
        "    print(\"Invalid number!\")"
      ],
      "metadata": {
        "id": "s1B_StKcFE8C"
      },
      "execution_count": null,
      "outputs": []
    },
    {
      "cell_type": "markdown",
      "source": [
        "Q13 How would you check if a file exists before attempting to read it in Python?"
      ],
      "metadata": {
        "id": "FP7ZPw1WFGw4"
      }
    },
    {
      "cell_type": "code",
      "source": [
        "import os\n",
        "if os.path.exists(\"myfile.txt\"):\n",
        "    print(open(\"myfile.txt\").read())\n",
        "else:\n",
        "    print(\"File not found!\")"
      ],
      "metadata": {
        "id": "OsfDuXRkFZYB"
      },
      "execution_count": null,
      "outputs": []
    },
    {
      "cell_type": "markdown",
      "source": [
        "Q14 Write a program that uses the logging module to log both informational and error messages?"
      ],
      "metadata": {
        "id": "PTbv4lXtFb3H"
      }
    },
    {
      "cell_type": "code",
      "source": [
        "import logging\n",
        "logging.basicConfig(filename=\"app.log\", level=logging.INFO)\n",
        "logging.info(\"Program started\")\n",
        "try:\n",
        "    print(10/0)\n",
        "except ZeroDivisionError:\n",
        "    logging.error(\"Division by zero!\")"
      ],
      "metadata": {
        "id": "y8hDsHbeFrqX"
      },
      "execution_count": null,
      "outputs": []
    },
    {
      "cell_type": "markdown",
      "source": [
        "Q15  Write a Python program that prints the content of a file and handles the case when the file is empty?"
      ],
      "metadata": {
        "id": "Q-6Ya1Q3Ft2K"
      }
    },
    {
      "cell_type": "code",
      "source": [
        "try:\n",
        "    f = open(\"myfile.txt\", \"r\")\n",
        "    content = f.read()\n",
        "    print(content if content else \"File is empty!\")\n",
        "except FileNotFoundError:\n",
        "    print(\"File not found!\")"
      ],
      "metadata": {
        "id": "IyGwSn7WGAJp"
      },
      "execution_count": null,
      "outputs": []
    },
    {
      "cell_type": "markdown",
      "source": [
        "Q16  Demonstrate how to use memory profiling to check the memory usage of a small program?"
      ],
      "metadata": {
        "id": "PGehUuidGBhf"
      }
    },
    {
      "cell_type": "code",
      "source": [
        "from memory_profiler import profile\n",
        "\n",
        "@profile\n",
        "def func():\n",
        "    nums = [i for i in range(10000)]\n",
        "    squares = [i*i for i in nums]\n",
        "    return squares"
      ],
      "metadata": {
        "id": "6RA6ljtOGUGy"
      },
      "execution_count": null,
      "outputs": []
    },
    {
      "cell_type": "markdown",
      "source": [
        "Q17  Write a Python program to create and write a list of numbers to a file, one number per line?"
      ],
      "metadata": {
        "id": "2x93vfoIGYbZ"
      }
    },
    {
      "cell_type": "code",
      "source": [
        "nums = [10,20,30,40,50]\n",
        "with open(\"numbers.txt\",\"w\") as f:\n",
        "    f.writelines(f\"{n}\\n\" for n in nums)"
      ],
      "metadata": {
        "id": "UEbTefsDGplJ"
      },
      "execution_count": null,
      "outputs": []
    },
    {
      "cell_type": "markdown",
      "source": [
        "Q18 How would you implement a basic logging setup that logs to a file with rotation after 1MB?"
      ],
      "metadata": {
        "id": "iKN0DnWQGrDh"
      }
    },
    {
      "cell_type": "code",
      "source": [
        "import logging\n",
        "from logging.handlers import RotatingFileHandler\n",
        "\n",
        "handler = RotatingFileHandler(\"app.log\", maxBytes=1_000_000, backupCount=3)\n",
        "logging.basicConfig(level=logging.INFO, handlers=[handler])\n",
        "logging.info(\"This is a log message.\")"
      ],
      "metadata": {
        "id": "yMAyLzaxHBlZ"
      },
      "execution_count": null,
      "outputs": []
    },
    {
      "cell_type": "markdown",
      "source": [
        "Q19  Write a program that handles both IndexError and KeyError using a try-except block?"
      ],
      "metadata": {
        "id": "Xxg9pED2HDGB"
      }
    },
    {
      "cell_type": "code",
      "source": [
        "lst = [1,2,3]; d = {\"a\":1}\n",
        "try: print(lst[5]); print(d[\"b\"])\n",
        "except IndexError: print(\"IndexError!\")\n",
        "except KeyError: print(\"KeyError!\")"
      ],
      "metadata": {
        "id": "fgph4c6-HcPh"
      },
      "execution_count": null,
      "outputs": []
    },
    {
      "cell_type": "markdown",
      "source": [
        "Q20 How would you open a file and read its contents using a context manager in Python?"
      ],
      "metadata": {
        "id": "EgWy4JFILXDv"
      }
    },
    {
      "cell_type": "code",
      "source": [
        "with open('example.txt', 'r') as file:\n",
        "    for line in file:\n",
        "        print(line.strip())"
      ],
      "metadata": {
        "id": "cGj1eaM9LpbI"
      },
      "execution_count": null,
      "outputs": []
    },
    {
      "cell_type": "markdown",
      "source": [
        "Q21  Write a Python program that reads a file and prints the number of occurrences of a specific word?\n"
      ],
      "metadata": {
        "id": "c7sC40iCLqwf"
      }
    },
    {
      "cell_type": "code",
      "source": [
        "with open('example.txt') as f:\n",
        "    print(sum(line.split().count('Python') for line in f))"
      ],
      "metadata": {
        "id": "ynzO1mIkMnzi"
      },
      "execution_count": null,
      "outputs": []
    },
    {
      "cell_type": "markdown",
      "source": [
        "Q22  How can you check if a file is empty before attempting to read its contents?"
      ],
      "metadata": {
        "id": "We3xNs7RMpg2"
      }
    },
    {
      "cell_type": "code",
      "source": [
        "import io\n",
        "\n",
        "with open('example.txt', 'r') as file:\n",
        "    if file.read(1):\n",
        "        file.seek(0)  # Reset pointer\n",
        "        print(file.read())\n",
        "    else:\n",
        "        print(\"The file is empty.\")"
      ],
      "metadata": {
        "id": "vqIuUz2rNH8D"
      },
      "execution_count": null,
      "outputs": []
    },
    {
      "cell_type": "markdown",
      "source": [
        "Q23  Write a Python program that writes to a log file when an error occurs during file handling?\n"
      ],
      "metadata": {
        "id": "hVE3o-1bNNt-"
      }
    },
    {
      "cell_type": "code",
      "source": [
        "try:\n",
        "    with open('nonexistent_file.txt') as f:\n",
        "        print(f.read())\n",
        "except Exception as e:\n",
        "    with open('error_log.txt', 'a') as log:\n",
        "        log.write(str(e) + '\\n')"
      ],
      "metadata": {
        "id": "zaBJWxONNp5a"
      },
      "execution_count": null,
      "outputs": []
    },
    {
      "cell_type": "code",
      "source": [],
      "metadata": {
        "id": "nvhyiWl-ENjq"
      },
      "execution_count": null,
      "outputs": []
    },
    {
      "cell_type": "code",
      "source": [],
      "metadata": {
        "id": "aODB_pLsCpfJ"
      },
      "execution_count": null,
      "outputs": []
    },
    {
      "cell_type": "code",
      "source": [],
      "metadata": {
        "id": "b95FWpP0B5Zy"
      },
      "execution_count": null,
      "outputs": []
    },
    {
      "cell_type": "code",
      "source": [],
      "metadata": {
        "id": "l_LDYSeFBqaY"
      },
      "execution_count": null,
      "outputs": []
    },
    {
      "cell_type": "code",
      "source": [],
      "metadata": {
        "id": "rMCnm4g1ibpW"
      },
      "execution_count": null,
      "outputs": []
    },
    {
      "cell_type": "code",
      "source": [],
      "metadata": {
        "id": "ZvIeZv8h33-r"
      },
      "execution_count": null,
      "outputs": []
    },
    {
      "cell_type": "code",
      "execution_count": null,
      "metadata": {
        "id": "thavyxra0FLe"
      },
      "outputs": [],
      "source": []
    }
  ]
}